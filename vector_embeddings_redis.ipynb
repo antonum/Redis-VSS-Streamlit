{
  "nbformat": 4,
  "nbformat_minor": 0,
  "metadata": {
    "colab": {
      "provenance": [],
      "collapsed_sections": [],
      "authorship_tag": "ABX9TyN2tDVqeOg3XsAZQwP/LS+7",
      "include_colab_link": true
    },
    "kernelspec": {
      "name": "python3",
      "display_name": "Python 3"
    },
    "language_info": {
      "name": "python"
    },
    "accelerator": "GPU",
    "gpuClass": "standard",
    "widgets": {
      "application/vnd.jupyter.widget-state+json": {
        "6c3ee9ac1a9f4d06a619eeb4474a8924": {
          "model_module": "@jupyter-widgets/controls",
          "model_name": "HBoxModel",
          "model_module_version": "1.5.0",
          "state": {
            "_dom_classes": [],
            "_model_module": "@jupyter-widgets/controls",
            "_model_module_version": "1.5.0",
            "_model_name": "HBoxModel",
            "_view_count": null,
            "_view_module": "@jupyter-widgets/controls",
            "_view_module_version": "1.5.0",
            "_view_name": "HBoxView",
            "box_style": "",
            "children": [
              "IPY_MODEL_f5c2393ee3f04a698a447b903ddc7544",
              "IPY_MODEL_8ec1dcf3b1334e3295d5fd5112b416be",
              "IPY_MODEL_1c4c90a6ee854065a15fa4f26b6ebe42"
            ],
            "layout": "IPY_MODEL_eaeceae13c8e4f60b23d1af03bb7c233"
          }
        },
        "f5c2393ee3f04a698a447b903ddc7544": {
          "model_module": "@jupyter-widgets/controls",
          "model_name": "HTMLModel",
          "model_module_version": "1.5.0",
          "state": {
            "_dom_classes": [],
            "_model_module": "@jupyter-widgets/controls",
            "_model_module_version": "1.5.0",
            "_model_name": "HTMLModel",
            "_view_count": null,
            "_view_module": "@jupyter-widgets/controls",
            "_view_module_version": "1.5.0",
            "_view_name": "HTMLView",
            "description": "",
            "description_tooltip": null,
            "layout": "IPY_MODEL_171a3b4adc0447eeab8a9577572c1270",
            "placeholder": "​",
            "style": "IPY_MODEL_19eb6986472644d2b8207eebd5b5e94e",
            "value": "100%"
          }
        },
        "8ec1dcf3b1334e3295d5fd5112b416be": {
          "model_module": "@jupyter-widgets/controls",
          "model_name": "FloatProgressModel",
          "model_module_version": "1.5.0",
          "state": {
            "_dom_classes": [],
            "_model_module": "@jupyter-widgets/controls",
            "_model_module_version": "1.5.0",
            "_model_name": "FloatProgressModel",
            "_view_count": null,
            "_view_module": "@jupyter-widgets/controls",
            "_view_module_version": "1.5.0",
            "_view_name": "ProgressView",
            "bar_style": "success",
            "description": "",
            "description_tooltip": null,
            "layout": "IPY_MODEL_7f93808fd34040929382ed6840eec140",
            "max": 12420,
            "min": 0,
            "orientation": "horizontal",
            "style": "IPY_MODEL_7638dc3ee3474dbeba2614856923f7a4",
            "value": 12420
          }
        },
        "1c4c90a6ee854065a15fa4f26b6ebe42": {
          "model_module": "@jupyter-widgets/controls",
          "model_name": "HTMLModel",
          "model_module_version": "1.5.0",
          "state": {
            "_dom_classes": [],
            "_model_module": "@jupyter-widgets/controls",
            "_model_module_version": "1.5.0",
            "_model_name": "HTMLModel",
            "_view_count": null,
            "_view_module": "@jupyter-widgets/controls",
            "_view_module_version": "1.5.0",
            "_view_name": "HTMLView",
            "description": "",
            "description_tooltip": null,
            "layout": "IPY_MODEL_1d9370b8f1a041ffa49bb830105b6bcb",
            "placeholder": "​",
            "style": "IPY_MODEL_656bdac9f7ad4a47baf73c29b602851e",
            "value": " 12420/12420 [00:09&lt;00:00, 1178.17it/s]"
          }
        },
        "eaeceae13c8e4f60b23d1af03bb7c233": {
          "model_module": "@jupyter-widgets/base",
          "model_name": "LayoutModel",
          "model_module_version": "1.2.0",
          "state": {
            "_model_module": "@jupyter-widgets/base",
            "_model_module_version": "1.2.0",
            "_model_name": "LayoutModel",
            "_view_count": null,
            "_view_module": "@jupyter-widgets/base",
            "_view_module_version": "1.2.0",
            "_view_name": "LayoutView",
            "align_content": null,
            "align_items": null,
            "align_self": null,
            "border": null,
            "bottom": null,
            "display": null,
            "flex": null,
            "flex_flow": null,
            "grid_area": null,
            "grid_auto_columns": null,
            "grid_auto_flow": null,
            "grid_auto_rows": null,
            "grid_column": null,
            "grid_gap": null,
            "grid_row": null,
            "grid_template_areas": null,
            "grid_template_columns": null,
            "grid_template_rows": null,
            "height": null,
            "justify_content": null,
            "justify_items": null,
            "left": null,
            "margin": null,
            "max_height": null,
            "max_width": null,
            "min_height": null,
            "min_width": null,
            "object_fit": null,
            "object_position": null,
            "order": null,
            "overflow": null,
            "overflow_x": null,
            "overflow_y": null,
            "padding": null,
            "right": null,
            "top": null,
            "visibility": null,
            "width": null
          }
        },
        "171a3b4adc0447eeab8a9577572c1270": {
          "model_module": "@jupyter-widgets/base",
          "model_name": "LayoutModel",
          "model_module_version": "1.2.0",
          "state": {
            "_model_module": "@jupyter-widgets/base",
            "_model_module_version": "1.2.0",
            "_model_name": "LayoutModel",
            "_view_count": null,
            "_view_module": "@jupyter-widgets/base",
            "_view_module_version": "1.2.0",
            "_view_name": "LayoutView",
            "align_content": null,
            "align_items": null,
            "align_self": null,
            "border": null,
            "bottom": null,
            "display": null,
            "flex": null,
            "flex_flow": null,
            "grid_area": null,
            "grid_auto_columns": null,
            "grid_auto_flow": null,
            "grid_auto_rows": null,
            "grid_column": null,
            "grid_gap": null,
            "grid_row": null,
            "grid_template_areas": null,
            "grid_template_columns": null,
            "grid_template_rows": null,
            "height": null,
            "justify_content": null,
            "justify_items": null,
            "left": null,
            "margin": null,
            "max_height": null,
            "max_width": null,
            "min_height": null,
            "min_width": null,
            "object_fit": null,
            "object_position": null,
            "order": null,
            "overflow": null,
            "overflow_x": null,
            "overflow_y": null,
            "padding": null,
            "right": null,
            "top": null,
            "visibility": null,
            "width": null
          }
        },
        "19eb6986472644d2b8207eebd5b5e94e": {
          "model_module": "@jupyter-widgets/controls",
          "model_name": "DescriptionStyleModel",
          "model_module_version": "1.5.0",
          "state": {
            "_model_module": "@jupyter-widgets/controls",
            "_model_module_version": "1.5.0",
            "_model_name": "DescriptionStyleModel",
            "_view_count": null,
            "_view_module": "@jupyter-widgets/base",
            "_view_module_version": "1.2.0",
            "_view_name": "StyleView",
            "description_width": ""
          }
        },
        "7f93808fd34040929382ed6840eec140": {
          "model_module": "@jupyter-widgets/base",
          "model_name": "LayoutModel",
          "model_module_version": "1.2.0",
          "state": {
            "_model_module": "@jupyter-widgets/base",
            "_model_module_version": "1.2.0",
            "_model_name": "LayoutModel",
            "_view_count": null,
            "_view_module": "@jupyter-widgets/base",
            "_view_module_version": "1.2.0",
            "_view_name": "LayoutView",
            "align_content": null,
            "align_items": null,
            "align_self": null,
            "border": null,
            "bottom": null,
            "display": null,
            "flex": null,
            "flex_flow": null,
            "grid_area": null,
            "grid_auto_columns": null,
            "grid_auto_flow": null,
            "grid_auto_rows": null,
            "grid_column": null,
            "grid_gap": null,
            "grid_row": null,
            "grid_template_areas": null,
            "grid_template_columns": null,
            "grid_template_rows": null,
            "height": null,
            "justify_content": null,
            "justify_items": null,
            "left": null,
            "margin": null,
            "max_height": null,
            "max_width": null,
            "min_height": null,
            "min_width": null,
            "object_fit": null,
            "object_position": null,
            "order": null,
            "overflow": null,
            "overflow_x": null,
            "overflow_y": null,
            "padding": null,
            "right": null,
            "top": null,
            "visibility": null,
            "width": null
          }
        },
        "7638dc3ee3474dbeba2614856923f7a4": {
          "model_module": "@jupyter-widgets/controls",
          "model_name": "ProgressStyleModel",
          "model_module_version": "1.5.0",
          "state": {
            "_model_module": "@jupyter-widgets/controls",
            "_model_module_version": "1.5.0",
            "_model_name": "ProgressStyleModel",
            "_view_count": null,
            "_view_module": "@jupyter-widgets/base",
            "_view_module_version": "1.2.0",
            "_view_name": "StyleView",
            "bar_color": null,
            "description_width": ""
          }
        },
        "1d9370b8f1a041ffa49bb830105b6bcb": {
          "model_module": "@jupyter-widgets/base",
          "model_name": "LayoutModel",
          "model_module_version": "1.2.0",
          "state": {
            "_model_module": "@jupyter-widgets/base",
            "_model_module_version": "1.2.0",
            "_model_name": "LayoutModel",
            "_view_count": null,
            "_view_module": "@jupyter-widgets/base",
            "_view_module_version": "1.2.0",
            "_view_name": "LayoutView",
            "align_content": null,
            "align_items": null,
            "align_self": null,
            "border": null,
            "bottom": null,
            "display": null,
            "flex": null,
            "flex_flow": null,
            "grid_area": null,
            "grid_auto_columns": null,
            "grid_auto_flow": null,
            "grid_auto_rows": null,
            "grid_column": null,
            "grid_gap": null,
            "grid_row": null,
            "grid_template_areas": null,
            "grid_template_columns": null,
            "grid_template_rows": null,
            "height": null,
            "justify_content": null,
            "justify_items": null,
            "left": null,
            "margin": null,
            "max_height": null,
            "max_width": null,
            "min_height": null,
            "min_width": null,
            "object_fit": null,
            "object_position": null,
            "order": null,
            "overflow": null,
            "overflow_x": null,
            "overflow_y": null,
            "padding": null,
            "right": null,
            "top": null,
            "visibility": null,
            "width": null
          }
        },
        "656bdac9f7ad4a47baf73c29b602851e": {
          "model_module": "@jupyter-widgets/controls",
          "model_name": "DescriptionStyleModel",
          "model_module_version": "1.5.0",
          "state": {
            "_model_module": "@jupyter-widgets/controls",
            "_model_module_version": "1.5.0",
            "_model_name": "DescriptionStyleModel",
            "_view_count": null,
            "_view_module": "@jupyter-widgets/base",
            "_view_module_version": "1.2.0",
            "_view_name": "StyleView",
            "description_width": ""
          }
        }
      }
    }
  },
  "cells": [
    {
      "cell_type": "markdown",
      "metadata": {
        "id": "view-in-github",
        "colab_type": "text"
      },
      "source": [
        "<a href=\"https://colab.research.google.com/github/antonum/Redis-VSS-Streamlit/blob/main/vector_embeddings_redis.ipynb\" target=\"_parent\"><img src=\"https://colab.research.google.com/assets/colab-badge.svg\" alt=\"Open In Colab\"/></a>"
      ]
    },
    {
      "cell_type": "markdown",
      "source": [
        "# Vector Similarity Search with Redis\n",
        "\n",
        "[Always-on demo](https://antonum-redis-vss-streamlit-streamlit-app-p4z5th.streamlitapp.com/)\n",
        "\n",
        "[GitHub repo](https://github.com/antonum/Redis-VSS-Streamlit)\n",
        "\n",
        "![Redis](https://redis.com/wp-content/themes/wpx/assets/images/logo-redis.svg?auto=webp&quality=85,75&width=120)\n",
        "\n",
        "This notebook generates vector embeddings using pretrained sentence-transformers/all-distilroberta-v1 model from HuggingFace, loads them to Redis and runs Vector Similarity search against Redis database. "
      ],
      "metadata": {
        "id": "tRlp93K0C1q8"
      }
    },
    {
      "cell_type": "code",
      "source": [
        "#install Redis client and Hugging Face sentence transformers\n",
        "!pip install redis sentence_transformers"
      ],
      "metadata": {
        "id": "H-9YfABV3_1z"
      },
      "execution_count": null,
      "outputs": []
    },
    {
      "cell_type": "code",
      "execution_count": 26,
      "metadata": {
        "id": "OsJLTPAb36Z3"
      },
      "outputs": [],
      "source": [
        "import pandas as pd\n",
        "import numpy as np\n",
        "from sentence_transformers import SentenceTransformer\n",
        "from tqdm.auto import tqdm\n",
        "from redis import Redis\n",
        "from redis.commands.search.field import (\n",
        "    NumericField,\n",
        "    TagField,\n",
        "    TextField,\n",
        "    VectorField,\n",
        ")\n",
        "from redis.commands.search.indexDefinition import IndexDefinition, IndexType\n",
        "from redis.commands.search.query import Query\n",
        "\n",
        "\n",
        "tqdm.pandas()\n",
        "\n",
        "#load pre-trained model from HuggingFace\n",
        "model = SentenceTransformer('sentence-transformers/all-distilroberta-v1')"
      ]
    },
    {
      "cell_type": "markdown",
      "source": [
        "Download 12k+ tweets"
      ],
      "metadata": {
        "id": "hJBWKmOykJRT"
      }
    },
    {
      "cell_type": "code",
      "source": [
        "!wget https://raw.githubusercontent.com/antonum/Redis-VSS-Streamlit/main/Labelled_Tweets.csv"
      ],
      "metadata": {
        "id": "Yw4PTJI_Hsdn"
      },
      "execution_count": null,
      "outputs": []
    },
    {
      "cell_type": "code",
      "source": [
        "df = pd.read_csv('Labelled_Tweets.csv')\n",
        "#df=df.head(1000) #trim dataframe to fit results into 30MB Redis database\n",
        "df\n"
      ],
      "metadata": {
        "id": "EFy8uuJH6nh3"
      },
      "execution_count": null,
      "outputs": []
    },
    {
      "cell_type": "markdown",
      "source": [
        "Generate vector embeddings within the dataframe"
      ],
      "metadata": {
        "id": "xTslHIdJkZJh"
      }
    },
    {
      "cell_type": "code",
      "source": [
        "def text_to_embedding(text):\n",
        "  return model.encode(text).astype(np.float32).tobytes()\n",
        "\n",
        "#generate vector embeddings\n",
        "df[\"text_embedding\"] = df[\"full_text\"].progress_apply(text_to_embedding)\n",
        "df.head()"
      ],
      "metadata": {
        "id": "hr4O80YemL_z"
      },
      "execution_count": null,
      "outputs": []
    },
    {
      "cell_type": "markdown",
      "source": [
        "Functions to: \n",
        "- save dataframe to Redis HASH\n",
        "- Create RediSearch Index"
      ],
      "metadata": {
        "id": "E101rw12ksSa"
      }
    },
    {
      "cell_type": "code",
      "source": [
        "def df_to_redis_hash(redis,df,key=\"tweet\",pipesize=100):\n",
        "  tweethash={}\n",
        "  pipe = redis.pipeline(transaction=False)\n",
        "  for i in tqdm(range(len(df[\"id\"]))):\n",
        "    keyname = \"{}:{}\".format(key,df[\"id\"][i])\n",
        "    tweethash[\"text\"]=df[\"full_text\"][i]\n",
        "    tweethash[\"text_embeddings\"]=df[\"text_embedding\"][i]\n",
        "    pipe.hset(keyname, mapping=tweethash)\n",
        "    if (i % pipesize == 0):\n",
        "      pipe.execute()\n",
        "      pipe = redis.pipeline(transaction=False)\n",
        "  pipe.execute()\n",
        "\n",
        "def create_redis_index(redis, idxname=\"tweet:idx\"):\n",
        "  try:\n",
        "    redis.ft(idxname).dropindex()\n",
        "  except:\n",
        "    print(\"no index found\")\n",
        "\n",
        "  # Create an index\n",
        "  indexDefinition = IndexDefinition(\n",
        "      prefix=[\"tweet:\"],\n",
        "      index_type=IndexType.HASH,\n",
        "  )\n",
        "\n",
        "  redis.ft(idxname).create_index(\n",
        "      (\n",
        "          TextField(\"text\", no_stem=False, sortable=True),\n",
        "          VectorField(\"text_embeddings\", \"HNSW\", {  \"TYPE\": \"FLOAT32\", \n",
        "                                                    \"DIM\": 768, \n",
        "                                                    \"DISTANCE_METRIC\": \"COSINE\",\n",
        "                                                  })\n",
        "      ),\n",
        "      definition=indexDefinition\n",
        "  )\n",
        "\n"
      ],
      "metadata": {
        "id": "HIzOD70FQOPt"
      },
      "execution_count": 30,
      "outputs": []
    },
    {
      "cell_type": "markdown",
      "source": [
        "## Connect to Redis instance\n",
        "\n",
        "You need Redis with RediSearch 2.4+ to complete the notebook. You can either use Redis Cloud instance, install [Redis Stack](https://redis.io/docs/stack/) within the colab notebook or run notebook locally and connect it to the local Redis Stack instance "
      ],
      "metadata": {
        "id": "C7O7WYG3tsgO"
      }
    },
    {
      "cell_type": "markdown",
      "source": [
        "### Create free Redis Cloud Subscription\n",
        "Redis.com - try free\n",
        "\n",
        "Create Free 30MB Fixed subscription\n",
        "\n",
        "Capture:\n",
        "- “Public Endpoint” \n",
        "- “Default User Password”\n",
        "\n",
        "### Install redis-stack in the colab runtime\n",
        "\n",
        "Create and run new code cell:\n",
        "\n",
        "```\n",
        "%%sh\n",
        "curl -fsSL https://packages.redis.io/gpg | sudo gpg --dearmor -o /usr/share/keyrings/redis-archive-keyring.gpg\n",
        "echo \"deb [signed-by=/usr/share/keyrings/redis-archive-keyring.gpg] https://packages.redis.io/deb $(lsb_release -cs) main\" | sudo tee /etc/apt/sources.list.d/redis.list\n",
        "sudo apt-get update\n",
        "sudo apt-get install redis-stack-server\n",
        "redis-stack-server --daemonize yes\n",
        "```\n",
        "\n",
        "### Local Redis Stack\n",
        "\n",
        "If you are running this notebook locally, you can use local version of the [Redis Stack](https://redis.io/docs/stack/)"
      ],
      "metadata": {
        "id": "N6v9bzK-DPy-"
      }
    },
    {
      "cell_type": "code",
      "source": [
        "%%sh\n",
        "curl -fsSL https://packages.redis.io/gpg | sudo gpg --dearmor -o /usr/share/keyrings/redis-archive-keyring.gpg\n",
        "echo \"deb [signed-by=/usr/share/keyrings/redis-archive-keyring.gpg] https://packages.redis.io/deb $(lsb_release -cs) main\" | sudo tee /etc/apt/sources.list.d/redis.list\n",
        "sudo apt-get update\n",
        "sudo apt-get install redis-stack-server\n",
        "redis-stack-server --daemonize yes"
      ],
      "metadata": {
        "id": "fCeITp_lmKcp"
      },
      "execution_count": null,
      "outputs": []
    },
    {
      "cell_type": "code",
      "source": [
        "# make sure to enter your values here!!!\n",
        "#host = \"redis-18900.c73.us-east-1-2.ec2.cloud.redislabs.com\"\n",
        "#port = 18900\n",
        "#pwd=\"sDv0puwA3oMXNBe3e8gdcBQtYXXXXX\"\n",
        "\n",
        "host = \"localhost\"\n",
        "port = 6379\n",
        "pwd=\"\"\n",
        "\n",
        "\n",
        "# connect to Redis\n",
        "redis = Redis(host=host, port=port, password=pwd)\n",
        "\n",
        "# clear Redis database (optional)\n",
        "redis.flushdb()\n",
        "\n",
        "# create Index\n",
        "create_redis_index(redis)\n",
        "\n",
        "# load data from Dataframe to Redis HASH\n",
        "df_to_redis_hash(redis,df,key=\"tweet\", pipesize=100)"
      ],
      "metadata": {
        "colab": {
          "base_uri": "https://localhost:8080/",
          "height": 67,
          "referenced_widgets": [
            "6c3ee9ac1a9f4d06a619eeb4474a8924",
            "f5c2393ee3f04a698a447b903ddc7544",
            "8ec1dcf3b1334e3295d5fd5112b416be",
            "1c4c90a6ee854065a15fa4f26b6ebe42",
            "eaeceae13c8e4f60b23d1af03bb7c233",
            "171a3b4adc0447eeab8a9577572c1270",
            "19eb6986472644d2b8207eebd5b5e94e",
            "7f93808fd34040929382ed6840eec140",
            "7638dc3ee3474dbeba2614856923f7a4",
            "1d9370b8f1a041ffa49bb830105b6bcb",
            "656bdac9f7ad4a47baf73c29b602851e"
          ]
        },
        "id": "i3l3Jm1KVeQq",
        "outputId": "fc1cda20-fc3a-4f09-f88e-17e87e766d19"
      },
      "execution_count": 32,
      "outputs": [
        {
          "output_type": "stream",
          "name": "stdout",
          "text": [
            "no index found\n"
          ]
        },
        {
          "output_type": "display_data",
          "data": {
            "text/plain": [
              "  0%|          | 0/12420 [00:00<?, ?it/s]"
            ],
            "application/vnd.jupyter.widget-view+json": {
              "version_major": 2,
              "version_minor": 0,
              "model_id": "6c3ee9ac1a9f4d06a619eeb4474a8924"
            }
          },
          "metadata": {}
        }
      ]
    },
    {
      "cell_type": "markdown",
      "source": [
        "## Query the database\n",
        "\n",
        "[Alway-on Streamlit app](https://antonum-redis-vss-streamlit-streamlit-app-p4z5th.streamlitapp.com/) \n",
        "\n",
        "\n",
        "Try queries like:\n",
        "“Oil”, “Oil Reserves”, “Fossil fuels”\n",
        "\n",
        "Lexical Full Text search quickly runs out of matches\n",
        "\n",
        "Vector search continues to discover relevant tweets"
      ],
      "metadata": {
        "id": "ovtxchAGEG9t"
      }
    },
    {
      "cell_type": "code",
      "source": [
        "user_query=\"oil down\"\n",
        "# queries to try \"oil reserve\", \"fossil fuels\""
      ],
      "metadata": {
        "id": "koOnsz_NqUje"
      },
      "execution_count": 56,
      "outputs": []
    },
    {
      "cell_type": "code",
      "source": [
        "#using Full Text Index\n",
        "q = Query(user_query)\\\n",
        "  .return_fields(\"text\")\n",
        "res = redis.ft(\"tweet:idx\").search(q)\n",
        "res_df = pd.DataFrame([t.__dict__ for t in res.docs ]).drop(columns=[\"payload\"])\n",
        "res_df"
      ],
      "metadata": {
        "id": "629GJ972qnAP"
      },
      "execution_count": null,
      "outputs": []
    },
    {
      "cell_type": "code",
      "source": [
        "#using Vector Similarity Index\n",
        "query_vector=model.encode(user_query).astype(np.float32).tobytes()\n",
        "q = Query(\"*=>[KNN 10 @text_embeddings $vector AS result_score]\")\\\n",
        "                .return_fields(\"result_score\",\"text\")\\\n",
        "                .dialect(2)\\\n",
        "                .sort_by(\"result_score\", True)\n",
        "res = redis.ft(\"tweet:idx\").search(q, query_params={\"vector\": query_vector})\n",
        "res_df = pd.DataFrame([t.__dict__ for t in res.docs ]).drop(columns=[\"payload\"])\n",
        "res_df"
      ],
      "metadata": {
        "id": "PNZk10z9x4CD"
      },
      "execution_count": null,
      "outputs": []
    }
  ]
}